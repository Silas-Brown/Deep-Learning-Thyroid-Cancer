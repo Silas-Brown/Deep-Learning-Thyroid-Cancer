{
  "cells": [
    {
      "cell_type": "code",
      "execution_count": null,
      "metadata": {
        "id": "eV22P3rGrFZH"
      },
      "outputs": [],
      "source": [
        "import warnings\n",
        "warnings.filterwarnings(\"ignore\")\n"
      ]
    },
    {
      "cell_type": "markdown",
      "metadata": {
        "id": "blU0fglPLglk"
      },
      "source": [
        "# Predicting thyroid cancer recurrence with deep learning\n",
        "\n",
        "\n",
        "This project uses a [dataset](https://archive.ics.uci.edu/dataset/915/differentiated+thyroid+cancer+recurrence) consisting of 383 observations and 16 features (383x16 data matrix) based on the medical history of patients and one target feature representing the recurrence of previous thyroid cancer. In this project we used a deep neural network and compare its performance to the linear SVM that was trained on this dataset. We will interrogate questions on how to define the hyperparameter search space: That is epochs, batch size, number of hidden layers, and the widths of the layers. Theoretical justifications are cited for specific simplifications of this hyperparameter space for the sake of not incurring great computational cost. We implement a grid search of our defined hyperparameter space to select a DNN that maximizes the PR-AUC on a holdout set. Finally, we inspect the 5-fold PR-AUC of the selected model to examine the reliability of the performance.\n",
        "\n",
        "\n",
        "\n"
      ]
    },
    {
      "cell_type": "markdown",
      "metadata": {
        "id": "x5W1ZtTvQsj-"
      },
      "source": [
        "# **(1)** Preprocessing and feature engineering\n",
        "\n",
        "This section prepares the data for model generation. Missing values and outliers will be addressed. Encoding and ranking features, then some feature engineering.\n",
        "\n"
      ]
    },
    {
      "cell_type": "code",
      "execution_count": null,
      "metadata": {
        "colab": {
          "base_uri": "https://localhost:8080/"
        },
        "collapsed": true,
        "id": "AB9WF-NdLbHw",
        "outputId": "a86d0b8a-7ffb-4619-a498-a4cb87491dd8"
      },
      "outputs": [
        {
          "name": "stdout",
          "output_type": "stream",
          "text": [
            "   Age Gender Smoking Hx Smoking Hx Radiothreapy Thyroid Function  \\\n",
            "0   27      F      No         No              No        Euthyroid   \n",
            "1   34      F      No        Yes              No        Euthyroid   \n",
            "2   30      F      No         No              No        Euthyroid   \n",
            "3   62      F      No         No              No        Euthyroid   \n",
            "4   62      F      No         No              No        Euthyroid   \n",
            "\n",
            "          Physical Examination Adenopathy       Pathology     Focality Risk  \\\n",
            "0   Single nodular goiter-left         No  Micropapillary    Uni-Focal  Low   \n",
            "1          Multinodular goiter         No  Micropapillary    Uni-Focal  Low   \n",
            "2  Single nodular goiter-right         No  Micropapillary    Uni-Focal  Low   \n",
            "3  Single nodular goiter-right         No  Micropapillary    Uni-Focal  Low   \n",
            "4          Multinodular goiter         No  Micropapillary  Multi-Focal  Low   \n",
            "\n",
            "     T   N   M Stage       Response Recurred  \n",
            "0  T1a  N0  M0     I  Indeterminate       No  \n",
            "1  T1a  N0  M0     I      Excellent       No  \n",
            "2  T1a  N0  M0     I      Excellent       No  \n",
            "3  T1a  N0  M0     I      Excellent       No  \n",
            "4  T1a  N0  M0     I      Excellent       No  \n"
          ]
        }
      ],
      "source": [
        "import pandas as pd\n",
        "import numpy as np\n",
        "import seaborn as sns\n",
        "import matplotlib.pyplot as plt\n",
        "from sklearn.linear_model import LogisticRegression\n",
        "from sklearn.model_selection import train_test_split\n",
        "from sklearn.preprocessing import StandardScaler\n",
        "from sklearn.tree import DecisionTreeClassifier\n",
        "from sklearn.ensemble import RandomForestClassifier\n",
        "from sklearn.svm import SVC\n",
        "from sklearn.neighbors import KNeighborsClassifier\n",
        "from sklearn.naive_bayes import GaussianNB\n",
        "from imblearn.over_sampling import SMOTE\n",
        "from sklearn.metrics import roc_auc_score\n",
        "from sklearn.metrics import classification_report\n",
        "import seaborn as sns\n",
        "from sklearn.metrics import precision_recall_curve, auc\n",
        "from sklearn.model_selection import cross_val_score\n",
        "from sklearn.metrics import confusion_matrix, ConfusionMatrixDisplay\n",
        "from sklearn.metrics import recall_score\n",
        "from sklearn.metrics import precision_score\n",
        "from sklearn.utils import resample\n",
        "from sklearn.preprocessing import StandardScaler\n",
        "from sklearn.decomposition import PCA\n",
        "\n",
        "\n",
        "\n",
        "\n",
        "\n",
        "df=pd.read_csv('/content/Thyroid_Diff.csv') # Extract raw data\n",
        "\n",
        "print(df.head()) # Display first 5 observations\n"
      ]
    },
    {
      "cell_type": "markdown",
      "metadata": {
        "id": "1oPdl0PiFQ-U"
      },
      "source": [
        "# **(1.1)** Cleansing: Addressing missing values and outliers\n",
        "\n",
        "The missing values are entirely in the \"Response\" column referring to the patient's response to previous treatment for cancer and the missing values are numerous. Feature importance bar charts in later sections show that response to previous treatment is consistently ranked as one of the most important features across various classification models. We will impute these missing values using a K-nearest neighbours model after feature engineering.\n",
        "\n",
        "As for outliers, we will inspect the age column as it will be the only column that is not a rank-based or categorical. First, let's inspect how age is distributed so we can decide an appropriate method of outlier detection and removal.\n",
        "\n",
        "\n"
      ]
    },
    {
      "cell_type": "code",
      "execution_count": null,
      "metadata": {
        "colab": {
          "base_uri": "https://localhost:8080/",
          "height": 430
        },
        "id": "F2eE-VloNs4D",
        "outputId": "518dfddc-3fff-4a0b-eb65-74cb94ebd15f"
      },
      "outputs": [
        {
          "data": {
            "image/png": "[encoded data removed]",
            "text/plain": [
              "<Figure size 640x480 with 1 Axes>"
            ]
          },
          "metadata": {},
          "output_type": "display_data"
        }
      ],
      "source": [
        "plt.hist(df['Age'],bins=50, color='red',edgecolor='black')\n",
        "plt.show()"
      ]
    },
    {
      "cell_type": "markdown",
      "metadata": {
        "id": "iz6CIxeNafJQ"
      },
      "source": [
        "This data is significantly skewed and doesn't appear normal. So we will use the IQR method for detection."
      ]
    },
    {
      "cell_type": "code",
      "execution_count": null,
      "metadata": {
        "colab": {
          "base_uri": "https://localhost:8080/",
          "height": 452
        },
        "id": "r1vvNMZOa2Rs",
        "outputId": "8bf4f292-9891-43b0-b313-5916ae84e748"
      },
      "outputs": [
        {
          "data": {
            "image/png": "[encoded data removed]",
            "text/plain": [
              "<Figure size 640x480 with 1 Axes>"
            ]
          },
          "metadata": {},
          "output_type": "display_data"
        }
      ],
      "source": [
        "plt.boxplot(df['Age'])\n",
        "plt.title(\"Box plot for age data\")\n",
        "plt.show()"
      ]
    },
    {
      "cell_type": "markdown",
      "metadata": {
        "id": "i0x-wGRTa8tM"
      },
      "source": [
        "Our boxplot demonstrates that age does not have outliers."
      ]
    },
    {
      "cell_type": "markdown",
      "metadata": {
        "id": "o9KN8BYzZFKX"
      },
      "source": [
        "# **(1.2)** Encoding, ranking, and normalizing (some) features.\n",
        "\n",
        "*   Normalizing columns with a wide range of values like age. We will not normalize binary or rank-based features as we will only be using a few ranks for each rank-based feature. We want to maintain the distance between the ranks that we have assigned and not have it possibly distorted by normalization.\n",
        "*   Extracting binary features (e.g, 0 or 1)\n",
        "*   Extracting rank-based features (e.g, 1, 2, 3 ..)\n",
        "\n",
        "The logic behind the rankings will be detailed extensively.\n",
        "\n",
        "\n",
        "\n",
        "\n",
        "\n",
        "\n",
        "\n"
      ]
    },
    {
      "cell_type": "code",
      "execution_count": null,
      "metadata": {
        "collapsed": true,
        "id": "IlkA6RNlZWE4"
      },
      "outputs": [],
      "source": [
        "df['Age']=(df['Age']-df['Age'].mean())/df['Age'].std()\n"
      ]
    },
    {
      "cell_type": "markdown",
      "metadata": {
        "id": "8ujxc62UjntG"
      },
      "source": [
        "\n",
        "\n",
        "*   Assign binary features 0 or 1\n",
        "*   Hx means \"History of\"\n",
        "*   \"Recurred\" is whether thyroid cancer has recurred or not\n",
        "*   The \"M\" feature refers to metastasis\n",
        "*   \"Response\" refers to response to cancer treatments. \"Structural incomplete\" means there are bodily displays of the cancer's persistence. \"Biochemical incomplete\" means there are biochemical signatures of the cancer's persistence. The indicators of the persistence are irrelevant so they both get a value of 1 for persistence. \"Excellent\" gets 0.\n",
        "*  \"N\" represents how much the cancer has spread specifically in terms of what lymph nodes it has spread to. \"N0\" means there is no spread to nearby lymph nodes. \"N1a\" means there is spread to nearby lymph nodes but still contained in the central region. \"N1b\" means it has spread to the lateral neck. N0, N1a, N1b will be coded as 0,1,2, respectively.\n",
        "\n",
        "\n",
        "\n",
        "\n",
        "\n",
        "\n"
      ]
    },
    {
      "cell_type": "code",
      "execution_count": null,
      "metadata": {
        "colab": {
          "base_uri": "https://localhost:8080/"
        },
        "collapsed": true,
        "id": "3jwbOTeqkBRJ",
        "outputId": "fbec78a2-df67-446b-9091-98daa0fd3966"
      },
      "outputs": [
        {
          "name": "stdout",
          "output_type": "stream",
          "text": [
            "['Indeterminate' 0 1]\n"
          ]
        }
      ],
      "source": [
        "df['Gender']=df['Gender'].replace(['F','M'],[0,1])\n",
        "\n",
        "df['Smoking']=df['Smoking'].replace(['No','Yes'],[0,1])\n",
        "\n",
        "df['Hx Smoking']=df['Hx Smoking'].replace(['No','Yes'],[0,1])\n",
        "\n",
        "df['Hx Radiothreapy']=df['Hx Radiothreapy'].replace(['No','Yes'],[0,1])\n",
        "\n",
        "df['Recurred']=df['Recurred'].replace(['No', 'Yes'], [0,1])\n",
        "\n",
        "df['M']=df['M'].replace(['M0', 'M1'], [0,1])\n",
        "\n",
        "df['Response']=df['Response'].replace(['Structural Incomplete','Biochemical Incomplete', 'Excellent'], [1,1,0])\n",
        "\n",
        "df['N']=df['N'].replace(['N0','N1a','N1b'],[0,1,2])\n",
        "\n",
        "print(df['Response'].unique())"
      ]
    },
    {
      "cell_type": "markdown",
      "metadata": {
        "id": "5KJNTrO8m4yt"
      },
      "source": [
        "\n",
        "\n",
        "*   Thyroid function (or dysfunction) should be thought of purely in terms of\n",
        "magnitude, not direction. That is, the hypo-hyper distinction should not be treated as information. What is treated as information is the magnitude. That is, the clinical-subclinical distinction. Euthyroid means it is a healthy thyroid and gets a value of 0. Subclinical and clinical dysunction gets values of 1 and 2 respectively.\n",
        "\n",
        "* \"Risk\" is the risk of recurrence.\n",
        "*   \"T\" refers to the magnitude of the primary tumour which is ranked numeric-alphabetically.\n",
        "*   \"Focality\" is the number of distinct growths in the primary cancer site.\n",
        "*   \"Adenopathy\" is swelling of the lymph node. Here, we apply the same logic with ranking thyroid function/dysfunction. But with \"bilateral\", both directions suggest another order of magnitude. \"Extensive\" is the maximum rank.\n",
        "* \"Stage\" is the stage of the previous cancer\n",
        "*   \"Physical Examination\" is the kind of goiter found in a physical examination.\n",
        "*  \"Pathology\" is the type of cancer found. These could be ranked in terms of size and aggression, so I created two new features. \"Pathologic size\" is pathology ranked by size. \"Pathologic aggression\" is pathology ranked by aggression.\n",
        "\n",
        "\n",
        "\n",
        "\n",
        "\n",
        "\n",
        "\n",
        "\n",
        "\n",
        "\n"
      ]
    },
    {
      "cell_type": "code",
      "execution_count": null,
      "metadata": {
        "collapsed": true,
        "id": "Aetm74wmndUx"
      },
      "outputs": [],
      "source": [
        "df['Thyroid Function']=df['Thyroid Function'].replace(['Clinical Hypothyroidism', 'Subclinical Hypothyroidism', 'Euthyroid', 'Subclinical Hyperthyroidism','Clinical Hyperthyroidism'], [2,1,0,1,2])\n",
        "# Rename column\n",
        "df['Thyroid Dysfunction']=df['Thyroid Function']\n",
        "df=df.drop(columns='Thyroid Function', axis=1)\n",
        "\n",
        "df['Risk']=df['Risk'].replace(['Low', 'Intermediate', 'High'], [1,2,3])\n",
        "\n",
        "df['T']=df['T'].replace(['T1a', 'T1b', 'T2a', 'T2', 'T2b', 'T3a', 'T3b', 'T4a', 'T4b'], range(1,10))\n",
        "\n",
        "df['Focality']=df['Focality'].replace(['Uni-Focal','Multi-Focal'], [1,2])\n",
        "\n",
        "df['Adenopathy']=df['Adenopathy'].replace(['No','Left','Right','Posterior','Bilateral','Extensive'],[1,2,2,2,3,4])\n",
        "\n",
        "df['Stage']=df['Stage'].replace(['I', 'II', 'III', 'IVA', 'IVB'], range(1,6))\n",
        "\n",
        "df['Physical Examination']=df['Physical Examination'].replace(['Normal','Single nodular goiter-right', 'Single nodular goiter-left', 'Diffuse goiter', 'Multinodular goiter'],[0,1,1,1,2])\n",
        "\n",
        "df['Pathologic size']=df['Pathology']\n",
        "\n",
        "df['Pathologic aggression']=df['Pathology']\n",
        "\n",
        "df['Pathologic size']=df['Pathology'].replace(['Micropapillary', 'Papillary', 'Follicular', 'Hurthel cell'], [1,2,3,4])\n",
        "\n",
        "df['Pathologic aggression']=df['Pathology'].replace(['Micropapillary', 'Papillary', 'Follicular', 'Hurthel cell'], [2,1,3,4])\n",
        "\n",
        "\n",
        "df=df.drop(columns=['Pathology'])\n",
        "df.reset_index(inplace=True)\n"
      ]
    },
    {
      "cell_type": "code",
      "execution_count": null,
      "metadata": {
        "colab": {
          "base_uri": "https://localhost:8080/"
        },
        "collapsed": true,
        "id": "ip8AEbI8PZaH",
        "outputId": "74fccd4d-a20f-44a2-b5bc-a762954d1bec"
      },
      "outputs": [
        {
          "name": "stdout",
          "output_type": "stream",
          "text": [
            "   index       Age  Gender  Smoking  Hx Smoking  Hx Radiothreapy  \\\n",
            "0      0 -0.916241       0        0           0                0   \n",
            "1      1 -0.453721       0        0           1                0   \n",
            "2      2 -0.718018       0        0           0                0   \n",
            "3      3  1.396357       0        0           0                0   \n",
            "4      4  1.396357       0        0           0                0   \n",
            "\n",
            "   Physical Examination  Adenopathy  Focality  Risk  T  N  M  Stage  \\\n",
            "0                     1           1         1     1  1  0  0      1   \n",
            "1                     2           1         1     1  1  0  0      1   \n",
            "2                     1           1         1     1  1  0  0      1   \n",
            "3                     1           1         1     1  1  0  0      1   \n",
            "4                     2           1         2     1  1  0  0      1   \n",
            "\n",
            "        Response  Recurred  Thyroid Dysfunction  Pathologic size  \\\n",
            "0  Indeterminate         0                    0                1   \n",
            "1              0         0                    0                1   \n",
            "2              0         0                    0                1   \n",
            "3              0         0                    0                1   \n",
            "4              0         0                    0                1   \n",
            "\n",
            "   Pathologic aggression  \n",
            "0                      2  \n",
            "1                      2  \n",
            "2                      2  \n",
            "3                      2  \n",
            "4                      2  \n"
          ]
        }
      ],
      "source": [
        "print(df.head())"
      ]
    },
    {
      "cell_type": "markdown",
      "metadata": {
        "id": "FR1GRz5xIMOu"
      },
      "source": [
        "# **(1.3)** KNN Imputation\n",
        "\n",
        "Missing values in the \"Response\" representing response to previous cancer is represented by \"Indeterminate\". A new dataframe (named rdf) removing these missing values will be used to train the KNN imputer.\n",
        "\n",
        "We use KNN imputation here for the same reason it was used in the SVM classification. Response was shown to be a highly important predictor, so we don't remove the information."
      ]
    },
    {
      "cell_type": "code",
      "execution_count": null,
      "metadata": {
        "id": "36ZPhf28N5Os"
      },
      "outputs": [],
      "source": [
        "KNN_imputer=KNeighborsClassifier()\n",
        "rdf=df[df['Response']!='Indeterminate'] #rdf means dataframe with removed values. This will be used to train the KNN_imputer\n",
        "\n",
        "yf=rdf['Response'].astype(int)\n",
        "Xf=rdf.drop(columns=['Response', 'Recurred']) # Both target and column used for imputation gets removed\n",
        "\n",
        "KNN_imputer.fit(Xf,yf)\n",
        "df['Response']=df['Response'].replace(['Indeterminate'], [KNN_imputer.predict(df.drop(columns=['Response', 'Recurred'],axis=1))])"
      ]
    },
    {
      "cell_type": "markdown",
      "metadata": {
        "id": "G9Glt7PH7YHm"
      },
      "source": [
        "# **(1.4)** Feature engineering: Introducing interaction and polynomial terms.\n",
        "\n",
        "Interactions between response, risk, and age will be explored in this model."
      ]
    },
    {
      "cell_type": "code",
      "execution_count": null,
      "metadata": {
        "id": "Lb4I7TOT9B_g"
      },
      "outputs": [],
      "source": [
        "df['Response x Age']=df['Response']*df['Age']\n",
        "df['Response x Age^2']=df['Response']*df['Age']**2\n",
        "df['Response x Risk']=df['Response']*df['Risk']\n",
        "df['Response x Risk^2']=df['Response']*df['Risk']**2\n",
        "df['Response x Age x Risk']=df['Response']*df['Age']*df['Risk']"
      ]
    },
    {
      "cell_type": "markdown",
      "metadata": {
        "id": "xvYBnTtR1opQ"
      },
      "source": [
        "# **(2.1)** Defining the feautures and target. Implement train_test_split.\n",
        "\n",
        "**A note on our selected features in X:**\n",
        "\n",
        "Performing feature selection with deep learning models is extremely computationally expensive. We justify the feature selection used in the original SVM model for this data on the following theoretical basis.\n",
        "\n",
        "Yes, in general it is possible that higher order features formed from singularly unimportant features could become important. We argue that it does not apply in this context because with a dataset of only 383 observations, we are running significant risk of overfitting. The risk of overfitting isn't worth it when the DNN is shown later on to achieve extremely high metrics anyways. Using the simplified feature selection, we maintain greater interpretability and stratospheric performance at the same time.  \n",
        "\n"
      ]
    },
    {
      "cell_type": "code",
      "execution_count": null,
      "metadata": {
        "colab": {
          "base_uri": "https://localhost:8080/"
        },
        "id": "rkjUTS_F2myj",
        "outputId": "3527710b-8d0a-4c5b-e876-e4465d399a85"
      },
      "outputs": [
        {
          "name": "stdout",
          "output_type": "stream",
          "text": [
            "Index(['index', 'Age', 'Gender', 'Smoking', 'Hx Smoking', 'Hx Radiothreapy',\n",
            "       'Physical Examination', 'Adenopathy', 'Focality', 'Risk', 'T', 'N', 'M',\n",
            "       'Stage', 'Response', 'Recurred', 'Thyroid Dysfunction',\n",
            "       'Pathologic size', 'Pathologic aggression', 'Response x Age',\n",
            "       'Response x Age^2', 'Response x Risk', 'Response x Risk^2',\n",
            "       'Response x Age x Risk'],\n",
            "      dtype='object')\n"
          ]
        }
      ],
      "source": [
        "from sklearn.model_selection import train_test_split\n",
        "\n",
        "print(df.keys())\n",
        "\n",
        "y=df['Recurred']\n",
        "\n",
        "\n",
        "X=df[['Gender', 'Smoking', 'N', 'M', 'Response', 'Response x Risk', 'Response x Risk^2']] # Final feature selection from the linear SVM\n",
        "\n",
        "X_train, X_test, y_train, y_test = train_test_split(X, y, test_size=0.2, stratify=y, random_state=42)\n"
      ]
    },
    {
      "cell_type": "markdown",
      "metadata": {
        "id": "vdIjEdpRe9xT"
      },
      "source": [
        "# **Hyperparameter Tuning**\n",
        "\n",
        "(1) **Generalized Hyperparameter**\n",
        "\n",
        "We have a multi-dimensional hyperparameter represented as\n",
        "\n",
        "$$H=(E,B,L,\\textbf{v}) \\in \\mathbb{N}^{3}\\times\\mathbb{N}^{L}$$\n",
        "\n",
        "with the maximization problem\n",
        "\n",
        "$$\\underset{H \\in \\mathbb{H}}{argmax} \\hspace{0.1cm} f(H)$$\n",
        "\n",
        "Where $E$ are epochs, $B$ is batch size, $L$ is the number of hidden layers, and $\\textbf{v}$ is the vector of the widths of the layers. $f(H)$ is our objective function which is the PR_AUC score on a holdout set.\n",
        "\n",
        "\n",
        "(2) **Narrowing the hyperparameter space**\n",
        "\n",
        "Training these models is very expensive computationally and cost significant time. Here we will impose and justify theoretical restrictions on the hyperparameter space to make our search simpler and more efficient.\n",
        "\n",
        "\n",
        "\n",
        "*   Make the entries (widths of hidden layers) of $\\textbf{v}$ a geometrically decreasing sequence. That is, the widths of each layer get geometrically narrower. $\\textbf{v}(L)=(2^{L},2^{L-1},\\dots,2)$ followed by the singular activation neuron. We do this avoid overfitting risk with a relatively smaller dataset we are working with. We are achieving higher abstraction but narrowing the features.\n",
        "* Restrict $L$ space to $L \\in \\{2,3,4\\}$ as DL models in the medical literature normally have only a few (2 to 4) hidden layers.\n",
        "*   Restrict the $B$ space to $B \\in \\{16,32,64\\}$. These are the standard batch sizes used to train medical models.\n",
        "*   Our dataset is only in the hundreds, so we need to restrict our epochs $E$ a narrower range of small values to avoid overfitting. We impose the restriction\n",
        "$E \\in \\{50,75,100\\}$. Epochs of these sizes are typically seen in the medical literature.\n",
        "\n",
        "So\n",
        "\n",
        "$$H=(E,B,L,\\textbf{v}(L))$$\n",
        "\n",
        "\n",
        "\n",
        "\n",
        "\n",
        "\n",
        "\n",
        "\n",
        "\n"
      ]
    },
    {
      "cell_type": "code",
      "execution_count": null,
      "metadata": {
        "id": "mSO6FgtSoqgr"
      },
      "outputs": [],
      "source": [
        "def DNN_LR(L, input_dim): # Initialize a DNN based on L (hidden layers)\n",
        "  model=Sequential()\n",
        "  model.add(Input(shape=(input_dim,)))\n",
        "\n",
        "  for k in range(0,L): model.add(Dense(2**(L-k), activation='relu')) # Create the layers based on v(L)\n",
        "\n",
        "  model.add(Dense(1, activation='sigmoid'))\n",
        "  return model"
      ]
    },
    {
      "cell_type": "code",
      "execution_count": null,
      "metadata": {
        "colab": {
          "base_uri": "https://localhost:8080/"
        },
        "id": "jjqO4NBSdghB",
        "outputId": "d4826c4b-aadc-47bc-df53-d3fc3b03a63a"
      },
      "outputs": [
        {
          "name": "stdout",
          "output_type": "stream",
          "text": [
            "\u001b[1m3/3\u001b[0m \u001b[32m━━━━━━━━━━━━━━━━━━━━\u001b[0m\u001b[37m\u001b[0m \u001b[1m0s\u001b[0m 26ms/step\n",
            "PR AUC: 0.5498 With H=[50, 16, 2]\n",
            "\u001b[1m3/3\u001b[0m \u001b[32m━━━━━━━━━━━━━━━━━━━━\u001b[0m\u001b[37m\u001b[0m \u001b[1m0s\u001b[0m 32ms/step\n",
            "PR AUC: 0.9794 With H=[50, 16, 3]\n"
          ]
        },
        {
          "name": "stderr",
          "output_type": "stream",
          "text": [
            "WARNING:tensorflow:5 out of the last 7 calls to <function TensorFlowTrainer.make_predict_function.<locals>.one_step_on_data_distributed at 0x7fc501ef5800> triggered tf.function retracing. Tracing is expensive and the excessive number of tracings could be due to (1) creating @tf.function repeatedly in a loop, (2) passing tensors with different shapes, (3) passing Python objects instead of tensors. For (1), please define your @tf.function outside of the loop. For (2), @tf.function has reduce_retracing=True option that can avoid unnecessary retracing. For (3), please refer to https://www.tensorflow.org/guide/function#controlling_retracing and https://www.tensorflow.org/api_docs/python/tf/function for  more details.\n"
          ]
        },
        {
          "name": "stdout",
          "output_type": "stream",
          "text": [
            "\r\u001b[1m1/3\u001b[0m \u001b[32m━━━━━━\u001b[0m\u001b[37m━━━━━━━━━━━━━━\u001b[0m \u001b[1m0s\u001b[0m 65ms/step"
          ]
        },
        {
          "name": "stderr",
          "output_type": "stream",
          "text": [
            "WARNING:tensorflow:6 out of the last 9 calls to <function TensorFlowTrainer.make_predict_function.<locals>.one_step_on_data_distributed at 0x7fc501ef5800> triggered tf.function retracing. Tracing is expensive and the excessive number of tracings could be due to (1) creating @tf.function repeatedly in a loop, (2) passing tensors with different shapes, (3) passing Python objects instead of tensors. For (1), please define your @tf.function outside of the loop. For (2), @tf.function has reduce_retracing=True option that can avoid unnecessary retracing. For (3), please refer to https://www.tensorflow.org/guide/function#controlling_retracing and https://www.tensorflow.org/api_docs/python/tf/function for  more details.\n"
          ]
        },
        {
          "name": "stdout",
          "output_type": "stream",
          "text": [
            "\u001b[1m3/3\u001b[0m \u001b[32m━━━━━━━━━━━━━━━━━━━━\u001b[0m\u001b[37m\u001b[0m \u001b[1m0s\u001b[0m 35ms/step\n",
            "PR AUC: 0.9868 With H=[50, 16, 4]\n",
            "\u001b[1m3/3\u001b[0m \u001b[32m━━━━━━━━━━━━━━━━━━━━\u001b[0m\u001b[37m\u001b[0m \u001b[1m0s\u001b[0m 26ms/step\n",
            "PR AUC: 0.9546 With H=[50, 32, 2]\n",
            "\u001b[1m3/3\u001b[0m \u001b[32m━━━━━━━━━━━━━━━━━━━━\u001b[0m\u001b[37m\u001b[0m \u001b[1m0s\u001b[0m 30ms/step\n",
            "PR AUC: 0.9750 With H=[50, 32, 3]\n",
            "\u001b[1m3/3\u001b[0m \u001b[32m━━━━━━━━━━━━━━━━━━━━\u001b[0m\u001b[37m\u001b[0m \u001b[1m0s\u001b[0m 33ms/step\n",
            "PR AUC: 0.9841 With H=[50, 32, 4]\n",
            "\u001b[1m3/3\u001b[0m \u001b[32m━━━━━━━━━━━━━━━━━━━━\u001b[0m\u001b[37m\u001b[0m \u001b[1m0s\u001b[0m 26ms/step\n",
            "PR AUC: 0.9894 With H=[50, 64, 2]\n",
            "\u001b[1m3/3\u001b[0m \u001b[32m━━━━━━━━━━━━━━━━━━━━\u001b[0m\u001b[37m\u001b[0m \u001b[1m0s\u001b[0m 30ms/step\n",
            "PR AUC: 0.9794 With H=[50, 64, 3]\n",
            "\u001b[1m3/3\u001b[0m \u001b[32m━━━━━━━━━━━━━━━━━━━━\u001b[0m\u001b[37m\u001b[0m \u001b[1m0s\u001b[0m 38ms/step\n",
            "PR AUC: 0.4916 With H=[50, 64, 4]\n",
            "\u001b[1m3/3\u001b[0m \u001b[32m━━━━━━━━━━━━━━━━━━━━\u001b[0m\u001b[37m\u001b[0m \u001b[1m0s\u001b[0m 31ms/step\n",
            "PR AUC: 0.9720 With H=[75, 16, 2]\n",
            "\u001b[1m3/3\u001b[0m \u001b[32m━━━━━━━━━━━━━━━━━━━━\u001b[0m\u001b[37m\u001b[0m \u001b[1m0s\u001b[0m 87ms/step\n",
            "PR AUC: 0.5832 With H=[75, 16, 3]\n",
            "\u001b[1m3/3\u001b[0m \u001b[32m━━━━━━━━━━━━━━━━━━━━\u001b[0m\u001b[37m\u001b[0m \u001b[1m0s\u001b[0m 47ms/step\n",
            "PR AUC: 0.9640 With H=[75, 16, 4]\n",
            "\u001b[1m3/3\u001b[0m \u001b[32m━━━━━━━━━━━━━━━━━━━━\u001b[0m\u001b[37m\u001b[0m \u001b[1m0s\u001b[0m 25ms/step\n",
            "PR AUC: 0.9825 With H=[75, 32, 2]\n",
            "\u001b[1m3/3\u001b[0m \u001b[32m━━━━━━━━━━━━━━━━━━━━\u001b[0m\u001b[37m\u001b[0m \u001b[1m0s\u001b[0m 30ms/step\n",
            "PR AUC: 0.9813 With H=[75, 32, 3]\n",
            "\u001b[1m3/3\u001b[0m \u001b[32m━━━━━━━━━━━━━━━━━━━━\u001b[0m\u001b[37m\u001b[0m \u001b[1m0s\u001b[0m 49ms/step\n",
            "PR AUC: 0.9794 With H=[75, 32, 4]\n",
            "\u001b[1m3/3\u001b[0m \u001b[32m━━━━━━━━━━━━━━━━━━━━\u001b[0m\u001b[37m\u001b[0m \u001b[1m0s\u001b[0m 27ms/step\n",
            "PR AUC: 0.9807 With H=[75, 64, 2]\n",
            "\u001b[1m3/3\u001b[0m \u001b[32m━━━━━━━━━━━━━━━━━━━━\u001b[0m\u001b[37m\u001b[0m \u001b[1m0s\u001b[0m 29ms/step\n",
            "PR AUC: 0.9841 With H=[75, 64, 3]\n",
            "\u001b[1m3/3\u001b[0m \u001b[32m━━━━━━━━━━━━━━━━━━━━\u001b[0m\u001b[37m\u001b[0m \u001b[1m0s\u001b[0m 36ms/step\n",
            "PR AUC: 0.9698 With H=[75, 64, 4]\n",
            "\u001b[1m3/3\u001b[0m \u001b[32m━━━━━━━━━━━━━━━━━━━━\u001b[0m\u001b[37m\u001b[0m \u001b[1m0s\u001b[0m 47ms/step\n",
            "PR AUC: 0.9794 With H=[100, 16, 2]\n",
            "\u001b[1m3/3\u001b[0m \u001b[32m━━━━━━━━━━━━━━━━━━━━\u001b[0m\u001b[37m\u001b[0m \u001b[1m0s\u001b[0m 36ms/step\n",
            "PR AUC: 0.9783 With H=[100, 16, 3]\n",
            "\u001b[1m3/3\u001b[0m \u001b[32m━━━━━━━━━━━━━━━━━━━━\u001b[0m\u001b[37m\u001b[0m \u001b[1m0s\u001b[0m 36ms/step\n",
            "PR AUC: 0.9841 With H=[100, 16, 4]\n",
            "\u001b[1m3/3\u001b[0m \u001b[32m━━━━━━━━━━━━━━━━━━━━\u001b[0m\u001b[37m\u001b[0m \u001b[1m0s\u001b[0m 26ms/step\n",
            "PR AUC: 0.9813 With H=[100, 32, 2]\n",
            "\u001b[1m3/3\u001b[0m \u001b[32m━━━━━━━━━━━━━━━━━━━━\u001b[0m\u001b[37m\u001b[0m \u001b[1m0s\u001b[0m 29ms/step\n",
            "PR AUC: 0.6429 With H=[100, 32, 3]\n",
            "\u001b[1m3/3\u001b[0m \u001b[32m━━━━━━━━━━━━━━━━━━━━\u001b[0m\u001b[37m\u001b[0m \u001b[1m0s\u001b[0m 54ms/step\n",
            "PR AUC: 0.9794 With H=[100, 32, 4]\n",
            "\u001b[1m3/3\u001b[0m \u001b[32m━━━━━━━━━━━━━━━━━━━━\u001b[0m\u001b[37m\u001b[0m \u001b[1m0s\u001b[0m 27ms/step\n",
            "PR AUC: 0.9823 With H=[100, 64, 2]\n",
            "\u001b[1m3/3\u001b[0m \u001b[32m━━━━━━━━━━━━━━━━━━━━\u001b[0m\u001b[37m\u001b[0m \u001b[1m0s\u001b[0m 35ms/step\n",
            "PR AUC: 0.4916 With H=[100, 64, 3]\n",
            "\u001b[1m3/3\u001b[0m \u001b[32m━━━━━━━━━━━━━━━━━━━━\u001b[0m\u001b[37m\u001b[0m \u001b[1m0s\u001b[0m 38ms/step\n",
            "PR AUC: 0.9763 With H=[100, 64, 4]\n",
            "Best Hyperparameter Configuration (H): (50, 64, 2)\n",
            "Highest PR_AUC: 0.9893699844292729\n"
          ]
        }
      ],
      "source": [
        "import tensorflow\n",
        "from tensorflow.keras import Sequential\n",
        "from tensorflow.keras.layers import Dense, Input\n",
        "from tensorflow.keras.optimizers import Adam\n",
        "\n",
        "# Assume input_dim is the dimension of your input features\n",
        "input_dim = X_train.shape[1]\n",
        "\n",
        "H_space={ # Hyperparameter space\n",
        "    'E': [50,75,100],\n",
        "    'B': [16,32,64],\n",
        "    'L': [2,3,4]\n",
        "}\n",
        "\n",
        "import itertools\n",
        "from sklearn.metrics import precision_recall_curve, auc\n",
        "\n",
        "param_combinations = itertools.product(H_space['E'], H_space['B'], H_space['L']) # Get all possible H combinations\n",
        "\n",
        "PR_AUC={}\n",
        "\n",
        "for E,B,L in param_combinations:\n",
        "  model=DNN_LR(L, input_dim)\n",
        "\n",
        "  model.compile(\n",
        "      optimizer=Adam(1e-3),\n",
        "      loss=\"BinaryCrossentropy\",\n",
        "      metrics=['precision', 'recall']\n",
        "  )\n",
        "\n",
        "# Labels must be -1 or +1\n",
        "  model.fit(X_train, y_train, epochs=E, batch_size=B, verbose=0)\n",
        "  from sklearn.metrics import precision_recall_curve, auc\n",
        "\n",
        "  y_scores = model.predict(X_test).ravel()\n",
        "\n",
        "  precision, recall, _ = precision_recall_curve(y_test, y_scores)\n",
        "\n",
        "  pr_auc = auc(recall, precision)\n",
        "  PR_AUC[(E,B,L)]=pr_auc\n",
        "  print(f\"PR AUC: {pr_auc:.4f}\", \"With H=\"+str([E,B,L]))\n",
        "\n",
        "\n",
        "best_H = max(PR_AUC, key=PR_AUC.get)\n",
        "best_score = PR_AUC[best_H]\n",
        "\n",
        "print(\"Best Hyperparameter Configuration (H):\", best_H)\n",
        "print(\"Highest PR_AUC:\", best_score)\n",
        "\n",
        "\n"
      ]
    },
    {
      "cell_type": "markdown",
      "metadata": {
        "id": "ybhc800Wwh8Y"
      },
      "source": [
        "So,\n",
        "\n",
        "$$\\underset{H \\in \\mathbb{H}}{argmax} \\hspace{0.1cm} f(H)=(50,64,2,\\textbf{v}(2))=H_{*}$$\n",
        "$$f(H_{*})=98.94\\%$$\n",
        "\n",
        "This is only slightly better than our 97% of our linear SVM. Meaning, higher order features contribute minimal information.\n",
        "\n",
        "Finally, we will inspect the 5-fold CV of this model on the PR-AUC metric."
      ]
    },
    {
      "cell_type": "code",
      "execution_count": null,
      "metadata": {
        "id": "Pq9rGfAMSc6d"
      },
      "outputs": [],
      "source": [
        "from sklearn.model_selection import StratifiedKFold\n",
        "from sklearn.metrics import average_precision_score\n",
        "import numpy as np\n",
        "import tensorflow as tf"
      ]
    },
    {
      "cell_type": "code",
      "execution_count": null,
      "metadata": {
        "colab": {
          "base_uri": "https://localhost:8080/"
        },
        "id": "NQBMXQxzShAD",
        "outputId": "5367425a-aeba-4298-ea6b-8b01528e5773"
      },
      "outputs": [
        {
          "name": "stdout",
          "output_type": "stream",
          "text": [
            "Fold 1\n",
            "\u001b[1m3/3\u001b[0m \u001b[32m━━━━━━━━━━━━━━━━━━━━\u001b[0m\u001b[37m\u001b[0m \u001b[1m0s\u001b[0m 27ms/step\n",
            "Fold 1 PR_AUC: 0.9619\n",
            "Fold 2\n",
            "\u001b[1m3/3\u001b[0m \u001b[32m━━━━━━━━━━━━━━━━━━━━\u001b[0m\u001b[37m\u001b[0m \u001b[1m0s\u001b[0m 39ms/step\n",
            "Fold 2 PR_AUC: 0.9318\n",
            "Fold 3\n",
            "\u001b[1m3/3\u001b[0m \u001b[32m━━━━━━━━━━━━━━━━━━━━\u001b[0m\u001b[37m\u001b[0m \u001b[1m0s\u001b[0m 28ms/step\n",
            "Fold 3 PR_AUC: 0.9686\n",
            "Fold 4\n",
            "\u001b[1m3/3\u001b[0m \u001b[32m━━━━━━━━━━━━━━━━━━━━\u001b[0m\u001b[37m\u001b[0m \u001b[1m0s\u001b[0m 29ms/step\n",
            "Fold 4 PR_AUC: 0.9296\n",
            "Fold 5\n",
            "\u001b[1m3/3\u001b[0m \u001b[32m━━━━━━━━━━━━━━━━━━━━\u001b[0m\u001b[37m\u001b[0m \u001b[1m0s\u001b[0m 26ms/step\n",
            "Fold 5 PR_AUC: 0.8585\n",
            "\n",
            "Mean , STD of PR_AUC: 0.9301, 0.0390\n"
          ]
        }
      ],
      "source": [
        "from sklearn.model_selection import StratifiedKFold\n",
        "X=np.array(X)\n",
        "\n",
        "# Data: X (features), y (labels)\n",
        "n_splits = 5\n",
        "skf = StratifiedKFold(n_splits=n_splits, shuffle=True, random_state=42)\n",
        "pr_aucs = []\n",
        "\n",
        "for fold, (train_idx, val_idx) in enumerate(skf.split(X, y)):\n",
        "    print(f\"Fold {fold+1}\")\n",
        "\n",
        "    X_train, X_val = X[train_idx], X[val_idx]\n",
        "    y_train, y_val = y[train_idx], y[val_idx]\n",
        "\n",
        "    model=DNN_LR(2, input_dim)\n",
        "\n",
        "    model.compile(\n",
        "      optimizer=Adam(1e-3),\n",
        "      loss=\"BinaryCrossentropy\",\n",
        "      metrics=['precision', 'recall']\n",
        "  )\n",
        "\n",
        "    model.fit(\n",
        "        X_train, y_train,\n",
        "        validation_data=(X_val, y_val),\n",
        "        epochs=50,\n",
        "        batch_size=32,\n",
        "        verbose=0\n",
        "    )\n",
        "\n",
        "    y_pred = model.predict(X_val).ravel()\n",
        "    pr_auc = average_precision_score(y_val, y_pred)\n",
        "    print(f\"Fold {fold+1} PR_AUC: {pr_auc:.4f}\")\n",
        "    pr_aucs.append(pr_auc)\n",
        "\n",
        "print(f\"\\nMean , STD of PR_AUC: {np.mean(pr_aucs):.4f}, {np.std(pr_aucs):.4f}\")\n"
      ]
    },
    {
      "cell_type": "markdown",
      "metadata": {
        "id": "cEeXRvtWEPgS"
      },
      "source": [
        "Across the 5 folds, we have an average PR-AUC of 93.01% and a standard deviation of 3.90%. We display a histogram of the PR-AUC scores. This shows that our model performs at a high level consistently."
      ]
    },
    {
      "cell_type": "code",
      "execution_count": null,
      "metadata": {
        "colab": {
          "base_uri": "https://localhost:8080/",
          "height": 472
        },
        "id": "NjFShQnwTWAK",
        "outputId": "c58efa80-7783-48ee-cf75-ee74999b3925"
      },
      "outputs": [
        {
          "data": {
            "image/png": "[encoded data removed]",
            "text/plain": [
              "<Figure size 640x480 with 1 Axes>"
            ]
          },
          "metadata": {},
          "output_type": "display_data"
        }
      ],
      "source": [
        "plt.hist(pr_aucs, bins=20, color='red',edgecolor='black')\n",
        "plt.xlabel('PR_AUC')\n",
        "plt.ylabel('Frequency')\n",
        "plt.title('Histogram of PR_AUC')\n",
        "plt.show()"
      ]
    }
  ],
  "metadata": {
    "colab": {
      "provenance": []
    },
    "kernelspec": {
      "display_name": "Python 3",
      "name": "python3"
    },
    "language_info": {
      "name": "python"
    }
  },
  "nbformat": 4,
  "nbformat_minor": 0
}
